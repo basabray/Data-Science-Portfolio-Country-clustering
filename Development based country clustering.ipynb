{
 "cells": [
  {
   "cell_type": "markdown",
   "metadata": {},
   "source": [
    "### Objective of the study: Cluster the countries using socio-economic and health factors that determine the overall development of the country and get insoghts out of the clusters"
   ]
  },
  {
   "cell_type": "code",
   "execution_count": null,
   "metadata": {},
   "outputs": [],
   "source": [
    "import pandas as pd\n",
    "import matplotlib.pyplot as plt\n",
    "import seaborn as sns\n",
    "from sklearn.preprocessing import StandardScaler\n",
    "from sklearn.cluster import KMeans"
   ]
  },
  {
   "cell_type": "code",
   "execution_count": 2,
   "metadata": {},
   "outputs": [
    {
     "data": {
      "text/html": [
       "<div>\n",
       "<style scoped>\n",
       "    .dataframe tbody tr th:only-of-type {\n",
       "        vertical-align: middle;\n",
       "    }\n",
       "\n",
       "    .dataframe tbody tr th {\n",
       "        vertical-align: top;\n",
       "    }\n",
       "\n",
       "    .dataframe thead th {\n",
       "        text-align: right;\n",
       "    }\n",
       "</style>\n",
       "<table border=\"1\" class=\"dataframe\">\n",
       "  <thead>\n",
       "    <tr style=\"text-align: right;\">\n",
       "      <th></th>\n",
       "      <th>country</th>\n",
       "      <th>child_mort</th>\n",
       "      <th>exports</th>\n",
       "      <th>health</th>\n",
       "      <th>imports</th>\n",
       "      <th>income</th>\n",
       "      <th>inflation</th>\n",
       "      <th>life_expec</th>\n",
       "      <th>total_fer</th>\n",
       "      <th>gdpp</th>\n",
       "    </tr>\n",
       "  </thead>\n",
       "  <tbody>\n",
       "    <tr>\n",
       "      <th>0</th>\n",
       "      <td>Afghanistan</td>\n",
       "      <td>90.2</td>\n",
       "      <td>10.0</td>\n",
       "      <td>7.58</td>\n",
       "      <td>44.9</td>\n",
       "      <td>1610</td>\n",
       "      <td>9.44</td>\n",
       "      <td>56.2</td>\n",
       "      <td>5.82</td>\n",
       "      <td>553</td>\n",
       "    </tr>\n",
       "    <tr>\n",
       "      <th>1</th>\n",
       "      <td>Albania</td>\n",
       "      <td>16.6</td>\n",
       "      <td>28.0</td>\n",
       "      <td>6.55</td>\n",
       "      <td>48.6</td>\n",
       "      <td>9930</td>\n",
       "      <td>4.49</td>\n",
       "      <td>76.3</td>\n",
       "      <td>1.65</td>\n",
       "      <td>4090</td>\n",
       "    </tr>\n",
       "    <tr>\n",
       "      <th>2</th>\n",
       "      <td>Algeria</td>\n",
       "      <td>27.3</td>\n",
       "      <td>38.4</td>\n",
       "      <td>4.17</td>\n",
       "      <td>31.4</td>\n",
       "      <td>12900</td>\n",
       "      <td>16.10</td>\n",
       "      <td>76.5</td>\n",
       "      <td>2.89</td>\n",
       "      <td>4460</td>\n",
       "    </tr>\n",
       "    <tr>\n",
       "      <th>3</th>\n",
       "      <td>Angola</td>\n",
       "      <td>119.0</td>\n",
       "      <td>62.3</td>\n",
       "      <td>2.85</td>\n",
       "      <td>42.9</td>\n",
       "      <td>5900</td>\n",
       "      <td>22.40</td>\n",
       "      <td>60.1</td>\n",
       "      <td>6.16</td>\n",
       "      <td>3530</td>\n",
       "    </tr>\n",
       "    <tr>\n",
       "      <th>4</th>\n",
       "      <td>Antigua and Barbuda</td>\n",
       "      <td>10.3</td>\n",
       "      <td>45.5</td>\n",
       "      <td>6.03</td>\n",
       "      <td>58.9</td>\n",
       "      <td>19100</td>\n",
       "      <td>1.44</td>\n",
       "      <td>76.8</td>\n",
       "      <td>2.13</td>\n",
       "      <td>12200</td>\n",
       "    </tr>\n",
       "  </tbody>\n",
       "</table>\n",
       "</div>"
      ],
      "text/plain": [
       "               country  child_mort  exports  health  imports  income  \\\n",
       "0          Afghanistan        90.2     10.0    7.58     44.9    1610   \n",
       "1              Albania        16.6     28.0    6.55     48.6    9930   \n",
       "2              Algeria        27.3     38.4    4.17     31.4   12900   \n",
       "3               Angola       119.0     62.3    2.85     42.9    5900   \n",
       "4  Antigua and Barbuda        10.3     45.5    6.03     58.9   19100   \n",
       "\n",
       "   inflation  life_expec  total_fer   gdpp  \n",
       "0       9.44        56.2       5.82    553  \n",
       "1       4.49        76.3       1.65   4090  \n",
       "2      16.10        76.5       2.89   4460  \n",
       "3      22.40        60.1       6.16   3530  \n",
       "4       1.44        76.8       2.13  12200  "
      ]
     },
     "execution_count": 2,
     "metadata": {},
     "output_type": "execute_result"
    }
   ],
   "source": [
    "#load the data\n",
    "df = pd.read_csv(r'C:\\users\\91842\\Downloads\\Country-data.csv')\n",
    "df.head()"
   ]
  },
  {
   "cell_type": "code",
   "execution_count": 47,
   "metadata": {},
   "outputs": [
    {
     "data": {
      "text/plain": [
       "(167, 10)"
      ]
     },
     "execution_count": 47,
     "metadata": {},
     "output_type": "execute_result"
    }
   ],
   "source": [
    "#check the shape of the data\n",
    "df.shape"
   ]
  },
  {
   "cell_type": "markdown",
   "metadata": {},
   "source": [
    "- Total 167 countries data is present here"
   ]
  },
  {
   "cell_type": "code",
   "execution_count": 4,
   "metadata": {},
   "outputs": [
    {
     "data": {
      "text/html": [
       "<div>\n",
       "<style scoped>\n",
       "    .dataframe tbody tr th:only-of-type {\n",
       "        vertical-align: middle;\n",
       "    }\n",
       "\n",
       "    .dataframe tbody tr th {\n",
       "        vertical-align: top;\n",
       "    }\n",
       "\n",
       "    .dataframe thead th {\n",
       "        text-align: right;\n",
       "    }\n",
       "</style>\n",
       "<table border=\"1\" class=\"dataframe\">\n",
       "  <thead>\n",
       "    <tr style=\"text-align: right;\">\n",
       "      <th></th>\n",
       "      <th>child_mort</th>\n",
       "      <th>exports</th>\n",
       "      <th>health</th>\n",
       "      <th>imports</th>\n",
       "      <th>income</th>\n",
       "      <th>inflation</th>\n",
       "      <th>life_expec</th>\n",
       "      <th>total_fer</th>\n",
       "      <th>gdpp</th>\n",
       "    </tr>\n",
       "    <tr>\n",
       "      <th>country</th>\n",
       "      <th></th>\n",
       "      <th></th>\n",
       "      <th></th>\n",
       "      <th></th>\n",
       "      <th></th>\n",
       "      <th></th>\n",
       "      <th></th>\n",
       "      <th></th>\n",
       "      <th></th>\n",
       "    </tr>\n",
       "  </thead>\n",
       "  <tbody>\n",
       "    <tr>\n",
       "      <th>Afghanistan</th>\n",
       "      <td>90.2</td>\n",
       "      <td>10.0</td>\n",
       "      <td>7.58</td>\n",
       "      <td>44.9</td>\n",
       "      <td>1610</td>\n",
       "      <td>9.44</td>\n",
       "      <td>56.2</td>\n",
       "      <td>5.82</td>\n",
       "      <td>553</td>\n",
       "    </tr>\n",
       "    <tr>\n",
       "      <th>Albania</th>\n",
       "      <td>16.6</td>\n",
       "      <td>28.0</td>\n",
       "      <td>6.55</td>\n",
       "      <td>48.6</td>\n",
       "      <td>9930</td>\n",
       "      <td>4.49</td>\n",
       "      <td>76.3</td>\n",
       "      <td>1.65</td>\n",
       "      <td>4090</td>\n",
       "    </tr>\n",
       "    <tr>\n",
       "      <th>Algeria</th>\n",
       "      <td>27.3</td>\n",
       "      <td>38.4</td>\n",
       "      <td>4.17</td>\n",
       "      <td>31.4</td>\n",
       "      <td>12900</td>\n",
       "      <td>16.10</td>\n",
       "      <td>76.5</td>\n",
       "      <td>2.89</td>\n",
       "      <td>4460</td>\n",
       "    </tr>\n",
       "    <tr>\n",
       "      <th>Angola</th>\n",
       "      <td>119.0</td>\n",
       "      <td>62.3</td>\n",
       "      <td>2.85</td>\n",
       "      <td>42.9</td>\n",
       "      <td>5900</td>\n",
       "      <td>22.40</td>\n",
       "      <td>60.1</td>\n",
       "      <td>6.16</td>\n",
       "      <td>3530</td>\n",
       "    </tr>\n",
       "    <tr>\n",
       "      <th>Antigua and Barbuda</th>\n",
       "      <td>10.3</td>\n",
       "      <td>45.5</td>\n",
       "      <td>6.03</td>\n",
       "      <td>58.9</td>\n",
       "      <td>19100</td>\n",
       "      <td>1.44</td>\n",
       "      <td>76.8</td>\n",
       "      <td>2.13</td>\n",
       "      <td>12200</td>\n",
       "    </tr>\n",
       "  </tbody>\n",
       "</table>\n",
       "</div>"
      ],
      "text/plain": [
       "                     child_mort  exports  health  imports  income  inflation  \\\n",
       "country                                                                        \n",
       "Afghanistan                90.2     10.0    7.58     44.9    1610       9.44   \n",
       "Albania                    16.6     28.0    6.55     48.6    9930       4.49   \n",
       "Algeria                    27.3     38.4    4.17     31.4   12900      16.10   \n",
       "Angola                    119.0     62.3    2.85     42.9    5900      22.40   \n",
       "Antigua and Barbuda        10.3     45.5    6.03     58.9   19100       1.44   \n",
       "\n",
       "                     life_expec  total_fer   gdpp  \n",
       "country                                            \n",
       "Afghanistan                56.2       5.82    553  \n",
       "Albania                    76.3       1.65   4090  \n",
       "Algeria                    76.5       2.89   4460  \n",
       "Angola                     60.1       6.16   3530  \n",
       "Antigua and Barbuda        76.8       2.13  12200  "
      ]
     },
     "execution_count": 4,
     "metadata": {},
     "output_type": "execute_result"
    }
   ],
   "source": [
    "#setting the country name as the index:\n",
    "test = df.set_index('country')\n",
    "test.head()"
   ]
  },
  {
   "cell_type": "markdown",
   "metadata": {},
   "source": [
    "##### Apply scaling on the data:"
   ]
  },
  {
   "cell_type": "code",
   "execution_count": 5,
   "metadata": {},
   "outputs": [],
   "source": [
    "x_scalar = StandardScaler()\n",
    "x_scaled = x_scalar.fit_transform(test)"
   ]
  },
  {
   "cell_type": "markdown",
   "metadata": {},
   "source": [
    "##### Applied Elbow method to get the optimum number of clusters to create:"
   ]
  },
  {
   "cell_type": "code",
   "execution_count": 6,
   "metadata": {},
   "outputs": [
    {
     "data": {
      "text/plain": [
       "[<matplotlib.lines.Line2D at 0x1feffe38bc8>]"
      ]
     },
     "execution_count": 6,
     "metadata": {},
     "output_type": "execute_result"
    },
    {
     "data": {
      "image/png": "[encoded data removed]",
      "text/plain": [
       "<Figure size 432x288 with 1 Axes>"
      ]
     },
     "metadata": {
      "needs_background": "light"
     },
     "output_type": "display_data"
    }
   ],
   "source": [
    "cluster_range = range(1,10)\n",
    "\n",
    "#to capture the distance once data are fitted to clusters : capture the inertia\n",
    "cluster_error = []\n",
    "\n",
    "for num_cluster in cluster_range:\n",
    "    clusters = KMeans(num_cluster)\n",
    "    clusters.fit(x_scaled)\n",
    "    cluster_error.append(clusters.inertia_)\n",
    "    \n",
    "    \n",
    "plt.plot(cluster_range, cluster_error, marker='o')"
   ]
  },
  {
   "cell_type": "markdown",
   "metadata": {},
   "source": [
    "##### Check the Silhouette Score for a certain range of clusters:"
   ]
  },
  {
   "cell_type": "code",
   "execution_count": 8,
   "metadata": {},
   "outputs": [
    {
     "name": "stdout",
     "output_type": "stream",
     "text": [
      "Silhouette Score for K=2 is 0.28735668921406704\n",
      "Silhouette Score for K=3 is 0.28329575683463126\n",
      "Silhouette Score for K=4 is 0.301375962376881\n",
      "Silhouette Score for K=5 is 0.30088229124112015\n",
      "Silhouette Score for K=6 is 0.2296292673013297\n",
      "Silhouette Score for K=7 is 0.2528419622462353\n",
      "Silhouette Score for K=8 is 0.2416800678772399\n",
      "Silhouette Score for K=9 is 0.22647669653590935\n"
     ]
    }
   ],
   "source": [
    "from sklearn.metrics import silhouette_score\n",
    "for i in range(2,10):\n",
    "    labels = KMeans(n_clusters=i).fit(x_scaled).labels_\n",
    "    print(\"Silhouette Score for K=\"+str(i)+\" is \"+str(silhouette_score(x_scaled, labels)))"
   ]
  },
  {
   "cell_type": "markdown",
   "metadata": {},
   "source": [
    "- From the Silhouette Score it is clear that the clusters are not very well apart from each other\n",
    "- It seems at K=4, the score is highest\n",
    "- But the selection of number of clusters is not s traight forward answer, it can depend on many factors\n",
    "- For this particlura domain study and the given data I will go with K = 3 (selecting number of clusters=3)"
   ]
  },
  {
   "cell_type": "markdown",
   "metadata": {},
   "source": [
    "##### KMeans algorithm has been applied to create the clusters:"
   ]
  },
  {
   "cell_type": "code",
   "execution_count": 9,
   "metadata": {},
   "outputs": [
    {
     "data": {
      "text/html": [
       "<div>\n",
       "<style scoped>\n",
       "    .dataframe tbody tr th:only-of-type {\n",
       "        vertical-align: middle;\n",
       "    }\n",
       "\n",
       "    .dataframe tbody tr th {\n",
       "        vertical-align: top;\n",
       "    }\n",
       "\n",
       "    .dataframe thead th {\n",
       "        text-align: right;\n",
       "    }\n",
       "</style>\n",
       "<table border=\"1\" class=\"dataframe\">\n",
       "  <thead>\n",
       "    <tr style=\"text-align: right;\">\n",
       "      <th></th>\n",
       "      <th>child_mort</th>\n",
       "      <th>exports</th>\n",
       "      <th>health</th>\n",
       "      <th>imports</th>\n",
       "      <th>income</th>\n",
       "      <th>inflation</th>\n",
       "      <th>life_expec</th>\n",
       "      <th>total_fer</th>\n",
       "      <th>gdpp</th>\n",
       "      <th>cluster_id</th>\n",
       "    </tr>\n",
       "    <tr>\n",
       "      <th>country</th>\n",
       "      <th></th>\n",
       "      <th></th>\n",
       "      <th></th>\n",
       "      <th></th>\n",
       "      <th></th>\n",
       "      <th></th>\n",
       "      <th></th>\n",
       "      <th></th>\n",
       "      <th></th>\n",
       "      <th></th>\n",
       "    </tr>\n",
       "  </thead>\n",
       "  <tbody>\n",
       "    <tr>\n",
       "      <th>Afghanistan</th>\n",
       "      <td>90.2</td>\n",
       "      <td>10.0</td>\n",
       "      <td>7.58</td>\n",
       "      <td>44.9</td>\n",
       "      <td>1610</td>\n",
       "      <td>9.44</td>\n",
       "      <td>56.2</td>\n",
       "      <td>5.82</td>\n",
       "      <td>553</td>\n",
       "      <td>1</td>\n",
       "    </tr>\n",
       "    <tr>\n",
       "      <th>Albania</th>\n",
       "      <td>16.6</td>\n",
       "      <td>28.0</td>\n",
       "      <td>6.55</td>\n",
       "      <td>48.6</td>\n",
       "      <td>9930</td>\n",
       "      <td>4.49</td>\n",
       "      <td>76.3</td>\n",
       "      <td>1.65</td>\n",
       "      <td>4090</td>\n",
       "      <td>0</td>\n",
       "    </tr>\n",
       "    <tr>\n",
       "      <th>Algeria</th>\n",
       "      <td>27.3</td>\n",
       "      <td>38.4</td>\n",
       "      <td>4.17</td>\n",
       "      <td>31.4</td>\n",
       "      <td>12900</td>\n",
       "      <td>16.10</td>\n",
       "      <td>76.5</td>\n",
       "      <td>2.89</td>\n",
       "      <td>4460</td>\n",
       "      <td>0</td>\n",
       "    </tr>\n",
       "    <tr>\n",
       "      <th>Angola</th>\n",
       "      <td>119.0</td>\n",
       "      <td>62.3</td>\n",
       "      <td>2.85</td>\n",
       "      <td>42.9</td>\n",
       "      <td>5900</td>\n",
       "      <td>22.40</td>\n",
       "      <td>60.1</td>\n",
       "      <td>6.16</td>\n",
       "      <td>3530</td>\n",
       "      <td>1</td>\n",
       "    </tr>\n",
       "    <tr>\n",
       "      <th>Antigua and Barbuda</th>\n",
       "      <td>10.3</td>\n",
       "      <td>45.5</td>\n",
       "      <td>6.03</td>\n",
       "      <td>58.9</td>\n",
       "      <td>19100</td>\n",
       "      <td>1.44</td>\n",
       "      <td>76.8</td>\n",
       "      <td>2.13</td>\n",
       "      <td>12200</td>\n",
       "      <td>0</td>\n",
       "    </tr>\n",
       "  </tbody>\n",
       "</table>\n",
       "</div>"
      ],
      "text/plain": [
       "                     child_mort  exports  health  imports  income  inflation  \\\n",
       "country                                                                        \n",
       "Afghanistan                90.2     10.0    7.58     44.9    1610       9.44   \n",
       "Albania                    16.6     28.0    6.55     48.6    9930       4.49   \n",
       "Algeria                    27.3     38.4    4.17     31.4   12900      16.10   \n",
       "Angola                    119.0     62.3    2.85     42.9    5900      22.40   \n",
       "Antigua and Barbuda        10.3     45.5    6.03     58.9   19100       1.44   \n",
       "\n",
       "                     life_expec  total_fer   gdpp  cluster_id  \n",
       "country                                                        \n",
       "Afghanistan                56.2       5.82    553           1  \n",
       "Albania                    76.3       1.65   4090           0  \n",
       "Algeria                    76.5       2.89   4460           0  \n",
       "Angola                     60.1       6.16   3530           1  \n",
       "Antigua and Barbuda        76.8       2.13  12200           0  "
      ]
     },
     "execution_count": 9,
     "metadata": {},
     "output_type": "execute_result"
    }
   ],
   "source": [
    "#apply KMeans\n",
    "cls_scaled = KMeans(n_clusters=3)\n",
    "\n",
    "#Fit the scaled data\n",
    "cls_scaled.fit(x_scaled)\n",
    "\n",
    "#store the predicted labels\n",
    "label = cls_scaled.predict(x_scaled)\n",
    "\n",
    "#create a new column to add the cluster id/labels to the data\n",
    "test['cluster_id'] = cls_scaled.labels_\n",
    "\n",
    "#display the first 5 rows of the data\n",
    "test.head()"
   ]
  },
  {
   "cell_type": "markdown",
   "metadata": {},
   "source": [
    "##### Let's visualize the data different feature-wise:"
   ]
  },
  {
   "cell_type": "code",
   "execution_count": 48,
   "metadata": {},
   "outputs": [
    {
     "data": {
      "image/png": "[encoded data removed]",
      "text/plain": [
       "<Figure size 1728x432 with 3 Axes>"
      ]
     },
     "metadata": {
      "needs_background": "light"
     },
     "output_type": "display_data"
    }
   ],
   "source": [
    "fig, axs = plt.subplots(1,3, figsize = (24,6))\n",
    "\n",
    "plt.subplot(1,3,1)\n",
    "sns.scatterplot(data=test, x=\"gdpp\", y=\"child_mort\", hue=\"cluster_id\", palette=\"deep\", sizes=(20, 400))\n",
    "plt.title('GDPP vs Child mortality');\n",
    "\n",
    "plt.subplot(1,3,2)\n",
    "sns.scatterplot(data=test, x=\"gdpp\", y=\"life_expec\", hue=\"cluster_id\", palette=\"deep\", sizes=(20, 400))\n",
    "plt.title('GDPP vs Life Expectency');\n",
    "\n",
    "plt.subplot(1,3,3)\n",
    "sns.scatterplot(data=test, x=\"gdpp\", y=\"health\", hue=\"cluster_id\", palette=\"deep\", sizes=(20, 400))\n",
    "plt.title('GDPP vs Health');"
   ]
  },
  {
   "cell_type": "markdown",
   "metadata": {},
   "source": [
    "Observations:\n",
    "- cluster1 has low GDPP, low life expectency, high child mortality rate\n",
    "- Whereas, cluster2 has the highest GDPP, high life expectency, very low child mortality rate\n",
    "- cluster0 is moderate in all the above mentioned aspects"
   ]
  },
  {
   "cell_type": "code",
   "execution_count": 62,
   "metadata": {},
   "outputs": [
    {
     "data": {
      "image/png": "[encoded data removed]",
      "text/plain": [
       "<Figure size 1440x288 with 2 Axes>"
      ]
     },
     "metadata": {
      "needs_background": "light"
     },
     "output_type": "display_data"
    }
   ],
   "source": [
    "fig, axs = plt.subplots(1,2, figsize = (20,4))\n",
    "\n",
    "plt.subplot(1,3,1)\n",
    "sns.scatterplot(data=test, x=\"gdpp\", y=\"exports\", hue=\"cluster_id\", palette=\"deep\", sizes=(20, 400))\n",
    "plt.title('GDPP vs Exports');\n",
    "\n",
    "plt.subplot(1,3,2)\n",
    "sns.scatterplot(data=test, x=\"gdpp\", y=\"income\", hue=\"cluster_id\", palette=\"deep\", sizes=(20, 400))\n",
    "plt.title('GDPP vs Income');"
   ]
  },
  {
   "cell_type": "markdown",
   "metadata": {},
   "source": [
    "Observations:\n",
    "- cluster1 has very low exports. Whereas, cluster2 has the highest exports \n",
    "- Net income per person is very high for cluster2 and relatively low in cluster0 and the lowest in cluster1"
   ]
  },
  {
   "cell_type": "code",
   "execution_count": 58,
   "metadata": {},
   "outputs": [
    {
     "data": {
      "image/png": "[encoded data removed]",
      "text/plain": [
       "<Figure size 1872x432 with 1 Axes>"
      ]
     },
     "metadata": {
      "needs_background": "light"
     },
     "output_type": "display_data"
    }
   ],
   "source": [
    "#plot the clusters:\n",
    "import mpl_toolkits\n",
    "from mpl_toolkits.mplot3d import Axes3D\n",
    "colors = ['#DF2020', '#81DF20', '#2095DF']\n",
    "kmeans = KMeans(n_clusters=3, random_state=0)\n",
    "test['cluster'] = kmeans.fit_predict(test[['child_mort', 'gdpp', 'exports']])\n",
    "test['c'] = test.cluster.map({0:colors[0], 1:colors[1], 2:colors[2]})\n",
    "fig = plt.figure(figsize=(26,6))\n",
    "ax = fig.add_subplot(131, projection='3d')\n",
    "ax.scatter(test.child_mort, test.gdpp, test.exports,c=test.c, s=15)\n",
    "ax.set_xlabel('Child mortality')\n",
    "ax.set_ylabel('GDP per capita')\n",
    "ax.set_zlabel('Exports')\n",
    "plt.title('Cluster Segmentation')\n",
    "plt.show()"
   ]
  },
  {
   "cell_type": "markdown",
   "metadata": {},
   "source": [
    "## Cluster segmentation and inferences:"
   ]
  },
  {
   "cell_type": "code",
   "execution_count": 45,
   "metadata": {},
   "outputs": [
    {
     "name": "stdout",
     "output_type": "stream",
     "text": [
      "Total nuber of countries that belong to cluster0 is: 84\n"
     ]
    }
   ],
   "source": [
    "cluster_0 = test[test['cluster_id']==0]\n",
    "print('Total nuber of countries that belong to cluster0 is:' , cluster_0.shape[0])"
   ]
  },
  {
   "cell_type": "code",
   "execution_count": 34,
   "metadata": {},
   "outputs": [
    {
     "data": {
      "text/html": [
       "<div>\n",
       "<style scoped>\n",
       "    .dataframe tbody tr th:only-of-type {\n",
       "        vertical-align: middle;\n",
       "    }\n",
       "\n",
       "    .dataframe tbody tr th {\n",
       "        vertical-align: top;\n",
       "    }\n",
       "\n",
       "    .dataframe thead th {\n",
       "        text-align: right;\n",
       "    }\n",
       "</style>\n",
       "<table border=\"1\" class=\"dataframe\">\n",
       "  <thead>\n",
       "    <tr style=\"text-align: right;\">\n",
       "      <th></th>\n",
       "      <th>child_mort</th>\n",
       "      <th>exports</th>\n",
       "      <th>health</th>\n",
       "      <th>imports</th>\n",
       "      <th>income</th>\n",
       "      <th>inflation</th>\n",
       "      <th>life_expec</th>\n",
       "      <th>total_fer</th>\n",
       "      <th>gdpp</th>\n",
       "      <th>cluster_id</th>\n",
       "    </tr>\n",
       "  </thead>\n",
       "  <tbody>\n",
       "    <tr>\n",
       "      <th>count</th>\n",
       "      <td>84.000000</td>\n",
       "      <td>84.000000</td>\n",
       "      <td>84.000000</td>\n",
       "      <td>84.000000</td>\n",
       "      <td>84.000000</td>\n",
       "      <td>84.000000</td>\n",
       "      <td>84.000000</td>\n",
       "      <td>84.000000</td>\n",
       "      <td>84.000000</td>\n",
       "      <td>84.0</td>\n",
       "    </tr>\n",
       "    <tr>\n",
       "      <th>mean</th>\n",
       "      <td>21.927381</td>\n",
       "      <td>40.243917</td>\n",
       "      <td>6.200952</td>\n",
       "      <td>47.473404</td>\n",
       "      <td>12305.595238</td>\n",
       "      <td>7.600905</td>\n",
       "      <td>72.814286</td>\n",
       "      <td>2.307500</td>\n",
       "      <td>6486.452381</td>\n",
       "      <td>0.0</td>\n",
       "    </tr>\n",
       "    <tr>\n",
       "      <th>std</th>\n",
       "      <td>13.757919</td>\n",
       "      <td>19.029182</td>\n",
       "      <td>2.167233</td>\n",
       "      <td>20.103873</td>\n",
       "      <td>8180.073696</td>\n",
       "      <td>7.849516</td>\n",
       "      <td>3.960745</td>\n",
       "      <td>0.696957</td>\n",
       "      <td>5021.434052</td>\n",
       "      <td>0.0</td>\n",
       "    </tr>\n",
       "    <tr>\n",
       "      <th>min</th>\n",
       "      <td>4.500000</td>\n",
       "      <td>0.109000</td>\n",
       "      <td>1.970000</td>\n",
       "      <td>0.065900</td>\n",
       "      <td>1780.000000</td>\n",
       "      <td>-4.210000</td>\n",
       "      <td>61.700000</td>\n",
       "      <td>1.250000</td>\n",
       "      <td>592.000000</td>\n",
       "      <td>0.0</td>\n",
       "    </tr>\n",
       "    <tr>\n",
       "      <th>25%</th>\n",
       "      <td>11.650000</td>\n",
       "      <td>26.750000</td>\n",
       "      <td>4.855000</td>\n",
       "      <td>32.150000</td>\n",
       "      <td>6635.000000</td>\n",
       "      <td>2.367500</td>\n",
       "      <td>70.200000</td>\n",
       "      <td>1.750000</td>\n",
       "      <td>2967.500000</td>\n",
       "      <td>0.0</td>\n",
       "    </tr>\n",
       "    <tr>\n",
       "      <th>50%</th>\n",
       "      <td>18.350000</td>\n",
       "      <td>37.300000</td>\n",
       "      <td>5.930000</td>\n",
       "      <td>48.650000</td>\n",
       "      <td>10180.000000</td>\n",
       "      <td>5.805000</td>\n",
       "      <td>73.600000</td>\n",
       "      <td>2.235000</td>\n",
       "      <td>4670.000000</td>\n",
       "      <td>0.0</td>\n",
       "    </tr>\n",
       "    <tr>\n",
       "      <th>75%</th>\n",
       "      <td>28.350000</td>\n",
       "      <td>51.400000</td>\n",
       "      <td>7.362500</td>\n",
       "      <td>60.425000</td>\n",
       "      <td>16650.000000</td>\n",
       "      <td>10.025000</td>\n",
       "      <td>76.100000</td>\n",
       "      <td>2.662500</td>\n",
       "      <td>9070.000000</td>\n",
       "      <td>0.0</td>\n",
       "    </tr>\n",
       "    <tr>\n",
       "      <th>max</th>\n",
       "      <td>64.400000</td>\n",
       "      <td>93.800000</td>\n",
       "      <td>14.200000</td>\n",
       "      <td>108.000000</td>\n",
       "      <td>45400.000000</td>\n",
       "      <td>45.900000</td>\n",
       "      <td>80.400000</td>\n",
       "      <td>4.340000</td>\n",
       "      <td>28000.000000</td>\n",
       "      <td>0.0</td>\n",
       "    </tr>\n",
       "  </tbody>\n",
       "</table>\n",
       "</div>"
      ],
      "text/plain": [
       "       child_mort    exports     health     imports        income  inflation  \\\n",
       "count   84.000000  84.000000  84.000000   84.000000     84.000000  84.000000   \n",
       "mean    21.927381  40.243917   6.200952   47.473404  12305.595238   7.600905   \n",
       "std     13.757919  19.029182   2.167233   20.103873   8180.073696   7.849516   \n",
       "min      4.500000   0.109000   1.970000    0.065900   1780.000000  -4.210000   \n",
       "25%     11.650000  26.750000   4.855000   32.150000   6635.000000   2.367500   \n",
       "50%     18.350000  37.300000   5.930000   48.650000  10180.000000   5.805000   \n",
       "75%     28.350000  51.400000   7.362500   60.425000  16650.000000  10.025000   \n",
       "max     64.400000  93.800000  14.200000  108.000000  45400.000000  45.900000   \n",
       "\n",
       "       life_expec  total_fer          gdpp  cluster_id  \n",
       "count   84.000000  84.000000     84.000000        84.0  \n",
       "mean    72.814286   2.307500   6486.452381         0.0  \n",
       "std      3.960745   0.696957   5021.434052         0.0  \n",
       "min     61.700000   1.250000    592.000000         0.0  \n",
       "25%     70.200000   1.750000   2967.500000         0.0  \n",
       "50%     73.600000   2.235000   4670.000000         0.0  \n",
       "75%     76.100000   2.662500   9070.000000         0.0  \n",
       "max     80.400000   4.340000  28000.000000         0.0  "
      ]
     },
     "execution_count": 34,
     "metadata": {},
     "output_type": "execute_result"
    }
   ],
   "source": [
    "cluster_0.describe()"
   ]
  },
  {
   "cell_type": "markdown",
   "metadata": {},
   "source": [
    "#### Inferences on cluster0:\n",
    "- Out of total 167 countries 84 countries belong to this cluster.\n",
    "- This countries have moderate child mortality rate, health spending per capita, average life expectency is approximately 72 years.\n",
    "- If we look at the GDPP data of such countries it seems that 75% of the countries are below 9070, whereas there are few countries with high GDPP like 28000 as well\n",
    "- By looking at the import/export data it is clear that these countries are importing more than exporting. Which indicates that the production in such countries are compartively low. "
   ]
  },
  {
   "cell_type": "code",
   "execution_count": 44,
   "metadata": {},
   "outputs": [
    {
     "name": "stdout",
     "output_type": "stream",
     "text": [
      "Total nuber of countries that belon to cluster1 is: 47\n"
     ]
    }
   ],
   "source": [
    "cluster_1 = test[test['cluster_id']==1]\n",
    "print('Total nuber of countries that belon to cluster1 is:' , cluster_1.shape[0])"
   ]
  },
  {
   "cell_type": "code",
   "execution_count": 36,
   "metadata": {},
   "outputs": [
    {
     "data": {
      "text/html": [
       "<div>\n",
       "<style scoped>\n",
       "    .dataframe tbody tr th:only-of-type {\n",
       "        vertical-align: middle;\n",
       "    }\n",
       "\n",
       "    .dataframe tbody tr th {\n",
       "        vertical-align: top;\n",
       "    }\n",
       "\n",
       "    .dataframe thead th {\n",
       "        text-align: right;\n",
       "    }\n",
       "</style>\n",
       "<table border=\"1\" class=\"dataframe\">\n",
       "  <thead>\n",
       "    <tr style=\"text-align: right;\">\n",
       "      <th></th>\n",
       "      <th>child_mort</th>\n",
       "      <th>exports</th>\n",
       "      <th>health</th>\n",
       "      <th>imports</th>\n",
       "      <th>income</th>\n",
       "      <th>inflation</th>\n",
       "      <th>life_expec</th>\n",
       "      <th>total_fer</th>\n",
       "      <th>gdpp</th>\n",
       "      <th>cluster_id</th>\n",
       "    </tr>\n",
       "  </thead>\n",
       "  <tbody>\n",
       "    <tr>\n",
       "      <th>count</th>\n",
       "      <td>47.000000</td>\n",
       "      <td>47.000000</td>\n",
       "      <td>47.000000</td>\n",
       "      <td>47.000000</td>\n",
       "      <td>47.000000</td>\n",
       "      <td>47.000000</td>\n",
       "      <td>47.000000</td>\n",
       "      <td>47.000000</td>\n",
       "      <td>47.000000</td>\n",
       "      <td>47.0</td>\n",
       "    </tr>\n",
       "    <tr>\n",
       "      <th>mean</th>\n",
       "      <td>92.961702</td>\n",
       "      <td>29.151277</td>\n",
       "      <td>6.388511</td>\n",
       "      <td>42.323404</td>\n",
       "      <td>3942.404255</td>\n",
       "      <td>12.019681</td>\n",
       "      <td>59.187234</td>\n",
       "      <td>5.008085</td>\n",
       "      <td>1922.382979</td>\n",
       "      <td>1.0</td>\n",
       "    </tr>\n",
       "    <tr>\n",
       "      <th>std</th>\n",
       "      <td>33.375229</td>\n",
       "      <td>18.160597</td>\n",
       "      <td>2.662015</td>\n",
       "      <td>17.732741</td>\n",
       "      <td>5641.790360</td>\n",
       "      <td>15.509958</td>\n",
       "      <td>6.443521</td>\n",
       "      <td>1.041382</td>\n",
       "      <td>2956.103925</td>\n",
       "      <td>0.0</td>\n",
       "    </tr>\n",
       "    <tr>\n",
       "      <th>min</th>\n",
       "      <td>36.900000</td>\n",
       "      <td>2.200000</td>\n",
       "      <td>2.200000</td>\n",
       "      <td>17.200000</td>\n",
       "      <td>609.000000</td>\n",
       "      <td>0.885000</td>\n",
       "      <td>32.100000</td>\n",
       "      <td>2.590000</td>\n",
       "      <td>231.000000</td>\n",
       "      <td>1.0</td>\n",
       "    </tr>\n",
       "    <tr>\n",
       "      <th>25%</th>\n",
       "      <td>63.800000</td>\n",
       "      <td>16.950000</td>\n",
       "      <td>4.520000</td>\n",
       "      <td>29.800000</td>\n",
       "      <td>1390.000000</td>\n",
       "      <td>4.010000</td>\n",
       "      <td>56.650000</td>\n",
       "      <td>4.535000</td>\n",
       "      <td>550.000000</td>\n",
       "      <td>1.0</td>\n",
       "    </tr>\n",
       "    <tr>\n",
       "      <th>50%</th>\n",
       "      <td>90.200000</td>\n",
       "      <td>23.800000</td>\n",
       "      <td>5.660000</td>\n",
       "      <td>40.300000</td>\n",
       "      <td>1870.000000</td>\n",
       "      <td>8.920000</td>\n",
       "      <td>59.500000</td>\n",
       "      <td>5.060000</td>\n",
       "      <td>897.000000</td>\n",
       "      <td>1.0</td>\n",
       "    </tr>\n",
       "    <tr>\n",
       "      <th>75%</th>\n",
       "      <td>111.000000</td>\n",
       "      <td>38.200000</td>\n",
       "      <td>8.105000</td>\n",
       "      <td>49.450000</td>\n",
       "      <td>3675.000000</td>\n",
       "      <td>16.600000</td>\n",
       "      <td>62.850000</td>\n",
       "      <td>5.635000</td>\n",
       "      <td>1470.000000</td>\n",
       "      <td>1.0</td>\n",
       "    </tr>\n",
       "    <tr>\n",
       "      <th>max</th>\n",
       "      <td>208.000000</td>\n",
       "      <td>85.800000</td>\n",
       "      <td>13.100000</td>\n",
       "      <td>101.000000</td>\n",
       "      <td>33700.000000</td>\n",
       "      <td>104.000000</td>\n",
       "      <td>71.100000</td>\n",
       "      <td>7.490000</td>\n",
       "      <td>17100.000000</td>\n",
       "      <td>1.0</td>\n",
       "    </tr>\n",
       "  </tbody>\n",
       "</table>\n",
       "</div>"
      ],
      "text/plain": [
       "       child_mort    exports     health     imports        income   inflation  \\\n",
       "count   47.000000  47.000000  47.000000   47.000000     47.000000   47.000000   \n",
       "mean    92.961702  29.151277   6.388511   42.323404   3942.404255   12.019681   \n",
       "std     33.375229  18.160597   2.662015   17.732741   5641.790360   15.509958   \n",
       "min     36.900000   2.200000   2.200000   17.200000    609.000000    0.885000   \n",
       "25%     63.800000  16.950000   4.520000   29.800000   1390.000000    4.010000   \n",
       "50%     90.200000  23.800000   5.660000   40.300000   1870.000000    8.920000   \n",
       "75%    111.000000  38.200000   8.105000   49.450000   3675.000000   16.600000   \n",
       "max    208.000000  85.800000  13.100000  101.000000  33700.000000  104.000000   \n",
       "\n",
       "       life_expec  total_fer          gdpp  cluster_id  \n",
       "count   47.000000  47.000000     47.000000        47.0  \n",
       "mean    59.187234   5.008085   1922.382979         1.0  \n",
       "std      6.443521   1.041382   2956.103925         0.0  \n",
       "min     32.100000   2.590000    231.000000         1.0  \n",
       "25%     56.650000   4.535000    550.000000         1.0  \n",
       "50%     59.500000   5.060000    897.000000         1.0  \n",
       "75%     62.850000   5.635000   1470.000000         1.0  \n",
       "max     71.100000   7.490000  17100.000000         1.0  "
      ]
     },
     "execution_count": 36,
     "metadata": {},
     "output_type": "execute_result"
    }
   ],
   "source": [
    "cluster_1.describe()"
   ]
  },
  {
   "cell_type": "markdown",
   "metadata": {},
   "source": [
    "#### Inferences on cluster1:\n",
    "- Out of total 167 countries 47 countries belong to this cluster\n",
    "- This countries have very high child mortality rate. Out of 1000 live births , more than 92 children dying under age 5 years\n",
    "- Average life expectency is very low, 59 years\n",
    "- If we look at the GDPP data of such countries it seems that 75% of the countries GDPP is below 1470. And the minimum GDPP is as low as 231\n",
    "- By looking at the import/export data it is visible that there is a huge gap between the import-export data. Such countries are importing much more than exporting. So, production in such countries are very low. More generally speaking, it would hurt job creation and economic growth in the deficit-running countries"
   ]
  },
  {
   "cell_type": "code",
   "execution_count": 46,
   "metadata": {},
   "outputs": [
    {
     "name": "stdout",
     "output_type": "stream",
     "text": [
      "Total nuber of countries that belon to cluster2 is: 36\n"
     ]
    }
   ],
   "source": [
    "cluster_2 = test[test['cluster_id']==2]\n",
    "print('Total nuber of countries that belon to cluster2 is:' , cluster_2.shape[0])"
   ]
  },
  {
   "cell_type": "code",
   "execution_count": 38,
   "metadata": {},
   "outputs": [
    {
     "data": {
      "text/html": [
       "<div>\n",
       "<style scoped>\n",
       "    .dataframe tbody tr th:only-of-type {\n",
       "        vertical-align: middle;\n",
       "    }\n",
       "\n",
       "    .dataframe tbody tr th {\n",
       "        vertical-align: top;\n",
       "    }\n",
       "\n",
       "    .dataframe thead th {\n",
       "        text-align: right;\n",
       "    }\n",
       "</style>\n",
       "<table border=\"1\" class=\"dataframe\">\n",
       "  <thead>\n",
       "    <tr style=\"text-align: right;\">\n",
       "      <th></th>\n",
       "      <th>child_mort</th>\n",
       "      <th>exports</th>\n",
       "      <th>health</th>\n",
       "      <th>imports</th>\n",
       "      <th>income</th>\n",
       "      <th>inflation</th>\n",
       "      <th>life_expec</th>\n",
       "      <th>total_fer</th>\n",
       "      <th>gdpp</th>\n",
       "      <th>cluster_id</th>\n",
       "    </tr>\n",
       "  </thead>\n",
       "  <tbody>\n",
       "    <tr>\n",
       "      <th>count</th>\n",
       "      <td>36.000000</td>\n",
       "      <td>36.000000</td>\n",
       "      <td>36.000000</td>\n",
       "      <td>36.000000</td>\n",
       "      <td>36.000000</td>\n",
       "      <td>36.000000</td>\n",
       "      <td>36.000000</td>\n",
       "      <td>36.000000</td>\n",
       "      <td>36.000000</td>\n",
       "      <td>36.0</td>\n",
       "    </tr>\n",
       "    <tr>\n",
       "      <th>mean</th>\n",
       "      <td>5.000000</td>\n",
       "      <td>58.738889</td>\n",
       "      <td>8.807778</td>\n",
       "      <td>51.491667</td>\n",
       "      <td>45672.222222</td>\n",
       "      <td>2.671250</td>\n",
       "      <td>80.127778</td>\n",
       "      <td>1.752778</td>\n",
       "      <td>42494.444444</td>\n",
       "      <td>2.0</td>\n",
       "    </tr>\n",
       "    <tr>\n",
       "      <th>std</th>\n",
       "      <td>2.188933</td>\n",
       "      <td>41.930782</td>\n",
       "      <td>3.178015</td>\n",
       "      <td>36.843998</td>\n",
       "      <td>20852.017526</td>\n",
       "      <td>4.077719</td>\n",
       "      <td>1.815742</td>\n",
       "      <td>0.373054</td>\n",
       "      <td>18991.079777</td>\n",
       "      <td>0.0</td>\n",
       "    </tr>\n",
       "    <tr>\n",
       "      <th>min</th>\n",
       "      <td>2.600000</td>\n",
       "      <td>12.400000</td>\n",
       "      <td>1.810000</td>\n",
       "      <td>13.600000</td>\n",
       "      <td>25200.000000</td>\n",
       "      <td>-3.220000</td>\n",
       "      <td>75.500000</td>\n",
       "      <td>1.150000</td>\n",
       "      <td>16600.000000</td>\n",
       "      <td>2.0</td>\n",
       "    </tr>\n",
       "    <tr>\n",
       "      <th>25%</th>\n",
       "      <td>3.550000</td>\n",
       "      <td>29.700000</td>\n",
       "      <td>7.735000</td>\n",
       "      <td>28.400000</td>\n",
       "      <td>32450.000000</td>\n",
       "      <td>0.451500</td>\n",
       "      <td>79.500000</td>\n",
       "      <td>1.437500</td>\n",
       "      <td>30675.000000</td>\n",
       "      <td>2.0</td>\n",
       "    </tr>\n",
       "    <tr>\n",
       "      <th>50%</th>\n",
       "      <td>4.200000</td>\n",
       "      <td>50.350000</td>\n",
       "      <td>9.445000</td>\n",
       "      <td>39.050000</td>\n",
       "      <td>40550.000000</td>\n",
       "      <td>1.190000</td>\n",
       "      <td>80.350000</td>\n",
       "      <td>1.815000</td>\n",
       "      <td>41200.000000</td>\n",
       "      <td>2.0</td>\n",
       "    </tr>\n",
       "    <tr>\n",
       "      <th>75%</th>\n",
       "      <td>5.750000</td>\n",
       "      <td>67.925000</td>\n",
       "      <td>10.775000</td>\n",
       "      <td>62.900000</td>\n",
       "      <td>46625.000000</td>\n",
       "      <td>3.647500</td>\n",
       "      <td>81.400000</td>\n",
       "      <td>1.957500</td>\n",
       "      <td>48475.000000</td>\n",
       "      <td>2.0</td>\n",
       "    </tr>\n",
       "    <tr>\n",
       "      <th>max</th>\n",
       "      <td>10.800000</td>\n",
       "      <td>200.000000</td>\n",
       "      <td>17.900000</td>\n",
       "      <td>174.000000</td>\n",
       "      <td>125000.000000</td>\n",
       "      <td>16.700000</td>\n",
       "      <td>82.800000</td>\n",
       "      <td>3.030000</td>\n",
       "      <td>105000.000000</td>\n",
       "      <td>2.0</td>\n",
       "    </tr>\n",
       "  </tbody>\n",
       "</table>\n",
       "</div>"
      ],
      "text/plain": [
       "       child_mort     exports     health     imports         income  \\\n",
       "count   36.000000   36.000000  36.000000   36.000000      36.000000   \n",
       "mean     5.000000   58.738889   8.807778   51.491667   45672.222222   \n",
       "std      2.188933   41.930782   3.178015   36.843998   20852.017526   \n",
       "min      2.600000   12.400000   1.810000   13.600000   25200.000000   \n",
       "25%      3.550000   29.700000   7.735000   28.400000   32450.000000   \n",
       "50%      4.200000   50.350000   9.445000   39.050000   40550.000000   \n",
       "75%      5.750000   67.925000  10.775000   62.900000   46625.000000   \n",
       "max     10.800000  200.000000  17.900000  174.000000  125000.000000   \n",
       "\n",
       "       inflation  life_expec  total_fer           gdpp  cluster_id  \n",
       "count  36.000000   36.000000  36.000000      36.000000        36.0  \n",
       "mean    2.671250   80.127778   1.752778   42494.444444         2.0  \n",
       "std     4.077719    1.815742   0.373054   18991.079777         0.0  \n",
       "min    -3.220000   75.500000   1.150000   16600.000000         2.0  \n",
       "25%     0.451500   79.500000   1.437500   30675.000000         2.0  \n",
       "50%     1.190000   80.350000   1.815000   41200.000000         2.0  \n",
       "75%     3.647500   81.400000   1.957500   48475.000000         2.0  \n",
       "max    16.700000   82.800000   3.030000  105000.000000         2.0  "
      ]
     },
     "execution_count": 38,
     "metadata": {},
     "output_type": "execute_result"
    }
   ],
   "source": [
    "cluster_2.describe()"
   ]
  },
  {
   "cell_type": "markdown",
   "metadata": {},
   "source": [
    "#### Inferences on cluster2:\n",
    "- Out of total 167 countries only 36 countries belong to this cluster\n",
    "- This countries have very low child mortality rate, comparetively high health spending per capita, average life expectency is approximately 80 years which is the highest among all the 3 clusters\n",
    "- The average GDPP is 42494 which is far good in comparison to other clusters\n",
    "- By looking at the import/export data, it is clear that these countries are exporting more than importing. Which indicates that the production in such countries is higher and so, no or less job crisis too "
   ]
  },
  {
   "cell_type": "markdown",
   "metadata": {},
   "source": [
    "### Final Conclusion: Based on the clusters created and the insights retrieved from the same, renaming the clusters for easier explanation, cluster_0  =  'Developing countries',  cluster_1 = 'Under-developed countries', cluster_2 =  'Developed countries'. The above study informs about the different dimensions, the components and the pillar of both development and nondevelopment countries. These study also shows the some of the internal inequality parameters between a development and a nondevelopment country. Few of those identified components are mentioned below.  \n",
    "- 'Health' : poor health ifrasturcture resulting in high rate of infant/child mortality, poor life expectancy\n",
    "- 'Economy' : Low net income per person resulting in low GDPP\n",
    "- 'Trade Deficit' : This indicates less ability to produce, which in turn may harm an economy, or reflect bad aspects of that economy.  "
   ]
  },
  {
   "cell_type": "markdown",
   "metadata": {},
   "source": [
    "### Action plan/Suggestions:\n",
    "1. As a data sientist, I would suggest 'HELP' to use their funds by focusing more on the countries which belong to the cluster named, 'Under-developed countries', where demography-wise need is the highest for - public health infrastructure, better life expectancy and lesser rate of infant/child mortality\n",
    "2. Countries that suffer economically, such economic condition indicators can be like - low net income/person or low GDP/capita\n",
    "3. Focus on such countries where trading is not balanced in terms of service/products both. Low export indicates lower production, this trade deficit can harm a nation's economy. Thus, it is an impact on overall development of that nation"
   ]
  },
  {
   "cell_type": "code",
   "execution_count": null,
   "metadata": {},
   "outputs": [],
   "source": []
  }
 ],
 "metadata": {
  "kernelspec": {
   "display_name": "Python 3",
   "language": "python",
   "name": "python3"
  },
  "language_info": {
   "codemirror_mode": {
    "name": "ipython",
    "version": 3
   },
   "file_extension": ".py",
   "mimetype": "text/x-python",
   "name": "python",
   "nbconvert_exporter": "python",
   "pygments_lexer": "ipython3",
   "version": "3.7.6"
  }
 },
 "nbformat": 4,
 "nbformat_minor": 4
}
